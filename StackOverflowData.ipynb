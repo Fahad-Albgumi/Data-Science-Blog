{
 "cells": [
  {
   "cell_type": "markdown",
   "id": "b8e6ff94",
   "metadata": {},
   "source": [
    "# Project 1: Write a Data Science Blog Post\n",
    "\n"
   ]
  },
  {
   "cell_type": "markdown",
   "id": "ae6daf0b",
   "metadata": {},
   "source": [
    "\n",
    "\n",
    "\n",
    "## CRISP-DM Stages:\n",
    "\n",
    "<ol>\n",
    "    <li>Business Understanding </li>\n",
    "    <li>Data Understanding </li>\n",
    "    <li>Prepare Data </li>\n",
    "    <li>Data Modeling </li>\n",
    "    <li>Evaluate the result </li>\n",
    "</ol>\n",
    "\n",
    "## Business Understanding:\n",
    "\n",
    "In order to understand more about developers, we will use the 2017 Stackoverflow data and answer these questions:\n",
    "<ol>\n",
    "    <li>Which countries used stackoverflow the most?</li>\n",
    "    <li>What is the level of education of StackOverflow users?</li>\n",
    "    <li>Most used programming languages?</li>\n",
    "    </ol>"
   ]
  },
  {
   "cell_type": "markdown",
   "id": "ce82e511-26b7-4296-bced-0853550109b6",
   "metadata": {},
   "source": [
    "# Importing libraries"
   ]
  },
  {
   "cell_type": "code",
   "execution_count": 116,
   "id": "43c8e38b",
   "metadata": {},
   "outputs": [],
   "source": [
    "import pandas as pd\n",
    "import numpy as np\n",
    "import seaborn as sns\n",
    "import matplotlib.pyplot as plt\n",
    "%matplotlib inline\n"
   ]
  },
  {
   "cell_type": "markdown",
   "id": "ba3f7463-a952-4de0-8690-87eba1855824",
   "metadata": {},
   "source": [
    "# Data understanding\n",
    "\n",
    "### Read the dataset"
   ]
  },
  {
   "cell_type": "code",
   "execution_count": 117,
   "id": "f51aca98-3273-42b6-a1d5-4c90160c98eb",
   "metadata": {},
   "outputs": [
    {
     "data": {
      "text/html": [
       "<div>\n",
       "<style scoped>\n",
       "    .dataframe tbody tr th:only-of-type {\n",
       "        vertical-align: middle;\n",
       "    }\n",
       "\n",
       "    .dataframe tbody tr th {\n",
       "        vertical-align: top;\n",
       "    }\n",
       "\n",
       "    .dataframe thead th {\n",
       "        text-align: right;\n",
       "    }\n",
       "</style>\n",
       "<table border=\"1\" class=\"dataframe\">\n",
       "  <thead>\n",
       "    <tr style=\"text-align: right;\">\n",
       "      <th></th>\n",
       "      <th>Respondent</th>\n",
       "      <th>Professional</th>\n",
       "      <th>ProgramHobby</th>\n",
       "      <th>Country</th>\n",
       "      <th>University</th>\n",
       "      <th>EmploymentStatus</th>\n",
       "      <th>FormalEducation</th>\n",
       "      <th>MajorUndergrad</th>\n",
       "      <th>HomeRemote</th>\n",
       "      <th>CompanySize</th>\n",
       "      <th>...</th>\n",
       "      <th>StackOverflowMakeMoney</th>\n",
       "      <th>Gender</th>\n",
       "      <th>HighestEducationParents</th>\n",
       "      <th>Race</th>\n",
       "      <th>SurveyLong</th>\n",
       "      <th>QuestionsInteresting</th>\n",
       "      <th>QuestionsConfusing</th>\n",
       "      <th>InterestedAnswers</th>\n",
       "      <th>Salary</th>\n",
       "      <th>ExpectedSalary</th>\n",
       "    </tr>\n",
       "  </thead>\n",
       "  <tbody>\n",
       "    <tr>\n",
       "      <th>0</th>\n",
       "      <td>1</td>\n",
       "      <td>Student</td>\n",
       "      <td>Yes, both</td>\n",
       "      <td>United States</td>\n",
       "      <td>No</td>\n",
       "      <td>Not employed, and not looking for work</td>\n",
       "      <td>Secondary school</td>\n",
       "      <td>NaN</td>\n",
       "      <td>NaN</td>\n",
       "      <td>NaN</td>\n",
       "      <td>...</td>\n",
       "      <td>Strongly disagree</td>\n",
       "      <td>Male</td>\n",
       "      <td>High school</td>\n",
       "      <td>White or of European descent</td>\n",
       "      <td>Strongly disagree</td>\n",
       "      <td>Strongly agree</td>\n",
       "      <td>Disagree</td>\n",
       "      <td>Strongly agree</td>\n",
       "      <td>NaN</td>\n",
       "      <td>NaN</td>\n",
       "    </tr>\n",
       "    <tr>\n",
       "      <th>1</th>\n",
       "      <td>2</td>\n",
       "      <td>Student</td>\n",
       "      <td>Yes, both</td>\n",
       "      <td>United Kingdom</td>\n",
       "      <td>Yes, full-time</td>\n",
       "      <td>Employed part-time</td>\n",
       "      <td>Some college/university study without earning ...</td>\n",
       "      <td>Computer science or software engineering</td>\n",
       "      <td>More than half, but not all, the time</td>\n",
       "      <td>20 to 99 employees</td>\n",
       "      <td>...</td>\n",
       "      <td>Strongly disagree</td>\n",
       "      <td>Male</td>\n",
       "      <td>A master's degree</td>\n",
       "      <td>White or of European descent</td>\n",
       "      <td>Somewhat agree</td>\n",
       "      <td>Somewhat agree</td>\n",
       "      <td>Disagree</td>\n",
       "      <td>Strongly agree</td>\n",
       "      <td>NaN</td>\n",
       "      <td>37500.0</td>\n",
       "    </tr>\n",
       "    <tr>\n",
       "      <th>2</th>\n",
       "      <td>3</td>\n",
       "      <td>Professional developer</td>\n",
       "      <td>Yes, both</td>\n",
       "      <td>United Kingdom</td>\n",
       "      <td>No</td>\n",
       "      <td>Employed full-time</td>\n",
       "      <td>Bachelor's degree</td>\n",
       "      <td>Computer science or software engineering</td>\n",
       "      <td>Less than half the time, but at least one day ...</td>\n",
       "      <td>10,000 or more employees</td>\n",
       "      <td>...</td>\n",
       "      <td>Disagree</td>\n",
       "      <td>Male</td>\n",
       "      <td>A professional degree</td>\n",
       "      <td>White or of European descent</td>\n",
       "      <td>Somewhat agree</td>\n",
       "      <td>Agree</td>\n",
       "      <td>Disagree</td>\n",
       "      <td>Agree</td>\n",
       "      <td>113750.0</td>\n",
       "      <td>NaN</td>\n",
       "    </tr>\n",
       "    <tr>\n",
       "      <th>3</th>\n",
       "      <td>4</td>\n",
       "      <td>Professional non-developer who sometimes write...</td>\n",
       "      <td>Yes, both</td>\n",
       "      <td>United States</td>\n",
       "      <td>No</td>\n",
       "      <td>Employed full-time</td>\n",
       "      <td>Doctoral degree</td>\n",
       "      <td>A non-computer-focused engineering discipline</td>\n",
       "      <td>Less than half the time, but at least one day ...</td>\n",
       "      <td>10,000 or more employees</td>\n",
       "      <td>...</td>\n",
       "      <td>Disagree</td>\n",
       "      <td>Male</td>\n",
       "      <td>A doctoral degree</td>\n",
       "      <td>White or of European descent</td>\n",
       "      <td>Agree</td>\n",
       "      <td>Agree</td>\n",
       "      <td>Somewhat agree</td>\n",
       "      <td>Strongly agree</td>\n",
       "      <td>NaN</td>\n",
       "      <td>NaN</td>\n",
       "    </tr>\n",
       "    <tr>\n",
       "      <th>4</th>\n",
       "      <td>5</td>\n",
       "      <td>Professional developer</td>\n",
       "      <td>Yes, I program as a hobby</td>\n",
       "      <td>Switzerland</td>\n",
       "      <td>No</td>\n",
       "      <td>Employed full-time</td>\n",
       "      <td>Master's degree</td>\n",
       "      <td>Computer science or software engineering</td>\n",
       "      <td>Never</td>\n",
       "      <td>10 to 19 employees</td>\n",
       "      <td>...</td>\n",
       "      <td>NaN</td>\n",
       "      <td>NaN</td>\n",
       "      <td>NaN</td>\n",
       "      <td>NaN</td>\n",
       "      <td>NaN</td>\n",
       "      <td>NaN</td>\n",
       "      <td>NaN</td>\n",
       "      <td>NaN</td>\n",
       "      <td>NaN</td>\n",
       "      <td>NaN</td>\n",
       "    </tr>\n",
       "  </tbody>\n",
       "</table>\n",
       "<p>5 rows × 154 columns</p>\n",
       "</div>"
      ],
      "text/plain": [
       "   Respondent                                       Professional  \\\n",
       "0           1                                            Student   \n",
       "1           2                                            Student   \n",
       "2           3                             Professional developer   \n",
       "3           4  Professional non-developer who sometimes write...   \n",
       "4           5                             Professional developer   \n",
       "\n",
       "                ProgramHobby         Country      University  \\\n",
       "0                  Yes, both   United States              No   \n",
       "1                  Yes, both  United Kingdom  Yes, full-time   \n",
       "2                  Yes, both  United Kingdom              No   \n",
       "3                  Yes, both   United States              No   \n",
       "4  Yes, I program as a hobby     Switzerland              No   \n",
       "\n",
       "                         EmploymentStatus  \\\n",
       "0  Not employed, and not looking for work   \n",
       "1                      Employed part-time   \n",
       "2                      Employed full-time   \n",
       "3                      Employed full-time   \n",
       "4                      Employed full-time   \n",
       "\n",
       "                                     FormalEducation  \\\n",
       "0                                   Secondary school   \n",
       "1  Some college/university study without earning ...   \n",
       "2                                  Bachelor's degree   \n",
       "3                                    Doctoral degree   \n",
       "4                                    Master's degree   \n",
       "\n",
       "                                  MajorUndergrad  \\\n",
       "0                                            NaN   \n",
       "1       Computer science or software engineering   \n",
       "2       Computer science or software engineering   \n",
       "3  A non-computer-focused engineering discipline   \n",
       "4       Computer science or software engineering   \n",
       "\n",
       "                                          HomeRemote  \\\n",
       "0                                                NaN   \n",
       "1              More than half, but not all, the time   \n",
       "2  Less than half the time, but at least one day ...   \n",
       "3  Less than half the time, but at least one day ...   \n",
       "4                                              Never   \n",
       "\n",
       "                CompanySize  ... StackOverflowMakeMoney Gender  \\\n",
       "0                       NaN  ...      Strongly disagree   Male   \n",
       "1        20 to 99 employees  ...      Strongly disagree   Male   \n",
       "2  10,000 or more employees  ...               Disagree   Male   \n",
       "3  10,000 or more employees  ...               Disagree   Male   \n",
       "4        10 to 19 employees  ...                    NaN    NaN   \n",
       "\n",
       "  HighestEducationParents                          Race         SurveyLong  \\\n",
       "0             High school  White or of European descent  Strongly disagree   \n",
       "1       A master's degree  White or of European descent     Somewhat agree   \n",
       "2   A professional degree  White or of European descent     Somewhat agree   \n",
       "3       A doctoral degree  White or of European descent              Agree   \n",
       "4                     NaN                           NaN                NaN   \n",
       "\n",
       "  QuestionsInteresting QuestionsConfusing InterestedAnswers    Salary  \\\n",
       "0       Strongly agree           Disagree    Strongly agree       NaN   \n",
       "1       Somewhat agree           Disagree    Strongly agree       NaN   \n",
       "2                Agree           Disagree             Agree  113750.0   \n",
       "3                Agree     Somewhat agree    Strongly agree       NaN   \n",
       "4                  NaN                NaN               NaN       NaN   \n",
       "\n",
       "   ExpectedSalary  \n",
       "0             NaN  \n",
       "1         37500.0  \n",
       "2             NaN  \n",
       "3             NaN  \n",
       "4             NaN  \n",
       "\n",
       "[5 rows x 154 columns]"
      ]
     },
     "execution_count": 117,
     "metadata": {},
     "output_type": "execute_result"
    }
   ],
   "source": [
    "#load datasets\n",
    "df = pd.read_csv('survey_results_public.csv')\n",
    "\n",
    "df.head()"
   ]
  },
  {
   "cell_type": "code",
   "execution_count": 118,
   "id": "41dd5cdc-a526-4997-b85b-6de9e1bdcf16",
   "metadata": {},
   "outputs": [
    {
     "data": {
      "text/html": [
       "<div>\n",
       "<style scoped>\n",
       "    .dataframe tbody tr th:only-of-type {\n",
       "        vertical-align: middle;\n",
       "    }\n",
       "\n",
       "    .dataframe tbody tr th {\n",
       "        vertical-align: top;\n",
       "    }\n",
       "\n",
       "    .dataframe thead th {\n",
       "        text-align: right;\n",
       "    }\n",
       "</style>\n",
       "<table border=\"1\" class=\"dataframe\">\n",
       "  <thead>\n",
       "    <tr style=\"text-align: right;\">\n",
       "      <th></th>\n",
       "      <th>Column</th>\n",
       "      <th>Question</th>\n",
       "    </tr>\n",
       "  </thead>\n",
       "  <tbody>\n",
       "    <tr>\n",
       "      <th>0</th>\n",
       "      <td>Respondent</td>\n",
       "      <td>Respondent ID number</td>\n",
       "    </tr>\n",
       "    <tr>\n",
       "      <th>1</th>\n",
       "      <td>Professional</td>\n",
       "      <td>Which of the following best describes you?</td>\n",
       "    </tr>\n",
       "    <tr>\n",
       "      <th>2</th>\n",
       "      <td>ProgramHobby</td>\n",
       "      <td>Do you program as a hobby or contribute to ope...</td>\n",
       "    </tr>\n",
       "    <tr>\n",
       "      <th>3</th>\n",
       "      <td>Country</td>\n",
       "      <td>In which country do you currently live?</td>\n",
       "    </tr>\n",
       "    <tr>\n",
       "      <th>4</th>\n",
       "      <td>University</td>\n",
       "      <td>Are you currently enrolled in a formal, degree...</td>\n",
       "    </tr>\n",
       "  </tbody>\n",
       "</table>\n",
       "</div>"
      ],
      "text/plain": [
       "         Column                                           Question\n",
       "0    Respondent                               Respondent ID number\n",
       "1  Professional         Which of the following best describes you?\n",
       "2  ProgramHobby  Do you program as a hobby or contribute to ope...\n",
       "3       Country            In which country do you currently live?\n",
       "4    University  Are you currently enrolled in a formal, degree..."
      ]
     },
     "execution_count": 118,
     "metadata": {},
     "output_type": "execute_result"
    }
   ],
   "source": [
    "df_2 = pd.read_csv('survey_results_schema.csv')\n",
    "df_2.head()"
   ]
  },
  {
   "cell_type": "code",
   "execution_count": 119,
   "id": "65e0936a-196c-4bb1-9759-76bbcce9417b",
   "metadata": {},
   "outputs": [
    {
     "data": {
      "text/plain": [
       "(51392, 154)"
      ]
     },
     "execution_count": 119,
     "metadata": {},
     "output_type": "execute_result"
    }
   ],
   "source": [
    "df.shape"
   ]
  },
  {
   "cell_type": "code",
   "execution_count": 120,
   "id": "85b27a33-53be-4a44-9873-958ea9fcf429",
   "metadata": {},
   "outputs": [
    {
     "data": {
      "text/plain": [
       "Index(['Respondent', 'Professional', 'ProgramHobby', 'Country', 'University',\n",
       "       'EmploymentStatus', 'FormalEducation', 'MajorUndergrad', 'HomeRemote',\n",
       "       'CompanySize',\n",
       "       ...\n",
       "       'StackOverflowMakeMoney', 'Gender', 'HighestEducationParents', 'Race',\n",
       "       'SurveyLong', 'QuestionsInteresting', 'QuestionsConfusing',\n",
       "       'InterestedAnswers', 'Salary', 'ExpectedSalary'],\n",
       "      dtype='object', length=154)"
      ]
     },
     "execution_count": 120,
     "metadata": {},
     "output_type": "execute_result"
    }
   ],
   "source": [
    "df.columns"
   ]
  },
  {
   "cell_type": "code",
   "execution_count": 121,
   "id": "8bcfba71-ff97-4239-a84a-72e1320cf1fd",
   "metadata": {},
   "outputs": [
    {
     "data": {
      "text/html": [
       "<div>\n",
       "<style scoped>\n",
       "    .dataframe tbody tr th:only-of-type {\n",
       "        vertical-align: middle;\n",
       "    }\n",
       "\n",
       "    .dataframe tbody tr th {\n",
       "        vertical-align: top;\n",
       "    }\n",
       "\n",
       "    .dataframe thead th {\n",
       "        text-align: right;\n",
       "    }\n",
       "</style>\n",
       "<table border=\"1\" class=\"dataframe\">\n",
       "  <thead>\n",
       "    <tr style=\"text-align: right;\">\n",
       "      <th></th>\n",
       "      <th>Respondent</th>\n",
       "      <th>CareerSatisfaction</th>\n",
       "      <th>JobSatisfaction</th>\n",
       "      <th>HoursPerWeek</th>\n",
       "      <th>StackOverflowSatisfaction</th>\n",
       "      <th>Salary</th>\n",
       "      <th>ExpectedSalary</th>\n",
       "    </tr>\n",
       "  </thead>\n",
       "  <tbody>\n",
       "    <tr>\n",
       "      <th>count</th>\n",
       "      <td>51392.000000</td>\n",
       "      <td>42695.000000</td>\n",
       "      <td>40376.000000</td>\n",
       "      <td>20600.000000</td>\n",
       "      <td>36592.000000</td>\n",
       "      <td>12891.000000</td>\n",
       "      <td>2566.000000</td>\n",
       "    </tr>\n",
       "    <tr>\n",
       "      <th>mean</th>\n",
       "      <td>25696.500000</td>\n",
       "      <td>7.300574</td>\n",
       "      <td>6.957078</td>\n",
       "      <td>3.952282</td>\n",
       "      <td>8.429875</td>\n",
       "      <td>56298.480641</td>\n",
       "      <td>33142.220468</td>\n",
       "    </tr>\n",
       "    <tr>\n",
       "      <th>std</th>\n",
       "      <td>14835.736854</td>\n",
       "      <td>1.955444</td>\n",
       "      <td>2.167652</td>\n",
       "      <td>7.564722</td>\n",
       "      <td>1.390635</td>\n",
       "      <td>39880.905277</td>\n",
       "      <td>30162.988829</td>\n",
       "    </tr>\n",
       "    <tr>\n",
       "      <th>min</th>\n",
       "      <td>1.000000</td>\n",
       "      <td>0.000000</td>\n",
       "      <td>0.000000</td>\n",
       "      <td>0.000000</td>\n",
       "      <td>0.000000</td>\n",
       "      <td>0.000000</td>\n",
       "      <td>0.000000</td>\n",
       "    </tr>\n",
       "    <tr>\n",
       "      <th>25%</th>\n",
       "      <td>12848.750000</td>\n",
       "      <td>6.000000</td>\n",
       "      <td>6.000000</td>\n",
       "      <td>1.000000</td>\n",
       "      <td>8.000000</td>\n",
       "      <td>26440.371840</td>\n",
       "      <td>4490.492484</td>\n",
       "    </tr>\n",
       "    <tr>\n",
       "      <th>50%</th>\n",
       "      <td>25696.500000</td>\n",
       "      <td>8.000000</td>\n",
       "      <td>7.000000</td>\n",
       "      <td>1.000000</td>\n",
       "      <td>9.000000</td>\n",
       "      <td>50000.000000</td>\n",
       "      <td>29364.263690</td>\n",
       "    </tr>\n",
       "    <tr>\n",
       "      <th>75%</th>\n",
       "      <td>38544.250000</td>\n",
       "      <td>9.000000</td>\n",
       "      <td>8.000000</td>\n",
       "      <td>4.000000</td>\n",
       "      <td>10.000000</td>\n",
       "      <td>80000.000000</td>\n",
       "      <td>50403.225807</td>\n",
       "    </tr>\n",
       "    <tr>\n",
       "      <th>max</th>\n",
       "      <td>51392.000000</td>\n",
       "      <td>10.000000</td>\n",
       "      <td>10.000000</td>\n",
       "      <td>40.000000</td>\n",
       "      <td>10.000000</td>\n",
       "      <td>197000.000000</td>\n",
       "      <td>187500.000000</td>\n",
       "    </tr>\n",
       "  </tbody>\n",
       "</table>\n",
       "</div>"
      ],
      "text/plain": [
       "         Respondent  CareerSatisfaction  JobSatisfaction  HoursPerWeek  \\\n",
       "count  51392.000000        42695.000000     40376.000000  20600.000000   \n",
       "mean   25696.500000            7.300574         6.957078      3.952282   \n",
       "std    14835.736854            1.955444         2.167652      7.564722   \n",
       "min        1.000000            0.000000         0.000000      0.000000   \n",
       "25%    12848.750000            6.000000         6.000000      1.000000   \n",
       "50%    25696.500000            8.000000         7.000000      1.000000   \n",
       "75%    38544.250000            9.000000         8.000000      4.000000   \n",
       "max    51392.000000           10.000000        10.000000     40.000000   \n",
       "\n",
       "       StackOverflowSatisfaction         Salary  ExpectedSalary  \n",
       "count               36592.000000   12891.000000     2566.000000  \n",
       "mean                    8.429875   56298.480641    33142.220468  \n",
       "std                     1.390635   39880.905277    30162.988829  \n",
       "min                     0.000000       0.000000        0.000000  \n",
       "25%                     8.000000   26440.371840     4490.492484  \n",
       "50%                     9.000000   50000.000000    29364.263690  \n",
       "75%                    10.000000   80000.000000    50403.225807  \n",
       "max                    10.000000  197000.000000   187500.000000  "
      ]
     },
     "execution_count": 121,
     "metadata": {},
     "output_type": "execute_result"
    }
   ],
   "source": [
    "df.describe()"
   ]
  },
  {
   "cell_type": "markdown",
   "id": "8af0f029-ef9a-4d23-8ace-2457faf01995",
   "metadata": {},
   "source": [
    "##  Which countries used stackoverflow the most?\n"
   ]
  },
  {
   "cell_type": "code",
   "execution_count": 122,
   "id": "84dd20d0-5054-4b44-b4f9-b8ce5708d9cb",
   "metadata": {},
   "outputs": [
    {
     "data": {
      "text/plain": [
       "0"
      ]
     },
     "execution_count": 122,
     "metadata": {},
     "output_type": "execute_result"
    }
   ],
   "source": [
    "#check for null\n",
    "df['Country'].isnull().sum()"
   ]
  },
  {
   "cell_type": "code",
   "execution_count": 123,
   "id": "6696ce1e-90f4-4b19-839b-0926ecc7fe78",
   "metadata": {},
   "outputs": [
    {
     "data": {
      "text/plain": [
       "array(['United States', 'United Kingdom', 'Switzerland', 'New Zealand',\n",
       "       'Poland', 'Colombia', 'France', 'Canada', 'Germany', 'Greece',\n",
       "       'Brazil', 'Israel', 'Italy', 'Belgium', 'India', 'Chile',\n",
       "       'Croatia', 'Argentina', 'Netherlands', 'Denmark', 'Ukraine',\n",
       "       'Sri Lanka', 'Malaysia', 'Finland', 'Turkey', 'Spain', 'Austria',\n",
       "       'Mexico', 'Russian Federation', 'Bulgaria', 'Uruguay', 'Estonia',\n",
       "       'Iran', 'Bangladesh', 'Sweden', 'Lithuania', 'Paraguay', 'Romania',\n",
       "       'Costa Rica', 'Serbia', 'Slovenia', 'United Arab Emirates',\n",
       "       'Tunisia', 'Kenya', 'El Salvador', 'Norway', 'Dominican Republic',\n",
       "       'Belarus', 'Portugal', 'Czech Republic', 'Albania',\n",
       "       'I prefer not to say', 'South Africa', 'Uzbekistan', 'Moldavia',\n",
       "       'Ireland', 'Nepal', 'Pakistan', 'Slovak Republic', 'Hungary',\n",
       "       'Egypt', 'Australia', 'Japan', 'South Korea', 'Rwanda',\n",
       "       'Luxembourg', 'Kazakhstan', 'Bolivia', 'Vietnam', 'Somalia',\n",
       "       'Saudi Arabia', 'Ethiopia', 'Macedonia', 'Bosnia-Herzegovina',\n",
       "       'Algeria', 'Nicaragua', 'Cuba', 'Indonesia',\n",
       "       'Netherlands Antilles', 'Jamaica', 'Nigeria', 'Ecuador', 'Peru',\n",
       "       'Malta', 'Uganda', 'Morocco', 'Guatemala', 'Jordan', 'Cyprus',\n",
       "       'Georgia', 'Armenia', 'Virgin Islands (USA)', 'Lebanon', 'China',\n",
       "       'Bermuda', 'Latvia', 'Singapore', 'Thailand', 'American Samoa',\n",
       "       'Puerto Rico', 'Philippines', 'Hong Kong', 'Taiwan', 'Cape Verde',\n",
       "       'Trinidad and Tobago', 'Mongolia', 'Myanmar', 'North Korea',\n",
       "       'Afghanistan', 'Cambodia', 'Liechtenstein', 'Botswana',\n",
       "       'Madagascar', 'Mauritius', 'Iraq', 'Ghana', 'Aland Islands',\n",
       "       'Zambia', 'Iceland', 'Zimbabwe', 'Azerbaidjan', 'Kuwait',\n",
       "       'Venezuela', 'S. Georgia & S. Sandwich Isls.', 'Panama', 'Andorra',\n",
       "       'Cayman Islands', 'Bahamas', 'Honduras', 'Sudan', 'Syria',\n",
       "       'Gibraltar', 'Virgin Islands (British)', 'Cameroon', 'Tanzania',\n",
       "       'Mozambique', 'Qatar', 'Libya', 'Reunion (French)',\n",
       "       'Vatican City State', 'Oman', 'Angola', 'Montenegro', 'Haiti',\n",
       "       'New Caledonia (French)', 'Bahrain', 'Bouvet Island', 'Togo',\n",
       "       'Namibia', 'Guyana', 'Lesotho', 'Antarctica', 'Burkina Faso',\n",
       "       'Anguilla', 'Fiji', 'Bhutan', 'Malawi', 'Laos', 'Gabon', 'Senegal',\n",
       "       'Kyrgyzstan', 'Tadjikistan', 'Brunei Darussalam', 'Zaire',\n",
       "       \"Ivory Coast (Cote D'Ivoire)\", 'Saint Lucia', 'Monaco',\n",
       "       'U.S. Minor Outlying Islands', 'Polynesia (French)',\n",
       "       'French Guyana', 'Pitcairn Island', 'Seychelles', 'Guinea',\n",
       "       'Aruba', 'Belize', 'Benin', 'Swaziland', 'Barbados', 'Eritrea',\n",
       "       'Niger', 'Suriname', 'Guam', 'Antigua and Barbuda', 'Djibouti',\n",
       "       'Mali', 'British Indian Ocean Territory',\n",
       "       'Northern Mariana Islands', 'Saint Vincent & Grenadines',\n",
       "       'Martinique (French)', 'Burundi', 'Cook Islands', 'Yemen',\n",
       "       'Turkmenistan', 'Macau', 'Chad', 'Falkland Islands', 'Montserrat',\n",
       "       'Christmas Island', 'Heard and McDonald Islands', 'Comoros',\n",
       "       'Saint Helena'], dtype=object)"
      ]
     },
     "execution_count": 123,
     "metadata": {},
     "output_type": "execute_result"
    }
   ],
   "source": [
    "#display values\n",
    "df.Country.unique()"
   ]
  },
  {
   "cell_type": "code",
   "execution_count": 124,
   "id": "7095bb35-cc62-4e0c-8cef-a20b7c1806a3",
   "metadata": {},
   "outputs": [
    {
     "data": {
      "text/plain": [
       "Text(0.5, 0, 'Countries')"
      ]
     },
     "execution_count": 124,
     "metadata": {},
     "output_type": "execute_result"
    },
    {
     "data": {
      "image/png": "[encoded data removed]",
      "text/plain": [
       "<Figure size 432x288 with 1 Axes>"
      ]
     },
     "metadata": {
      "needs_background": "light"
     },
     "output_type": "display_data"
    }
   ],
   "source": [
    "# display top countries only\n",
    "plot_country = df['Country'].value_counts()[0:10].sort_values(ascending=False)\n",
    "plot_country.plot(kind = 'bar', color = 'red')\n",
    "plt.ylabel('Users')\n",
    "plt.xticks(rotation = 60)\n",
    "plt.title('Countries using Stack Overflow the most', size = 10)\n",
    "plt.xlabel('Countries')"
   ]
  },
  {
   "cell_type": "markdown",
   "id": "746f84ab-32e7-4e65-b8ec-a9594c493f1c",
   "metadata": {},
   "source": [
    "\n",
    "\n",
    "#### From the chart we can see that United states has the country with most users followed by India and United Kingdom\n",
    "\n"
   ]
  },
  {
   "cell_type": "code",
   "execution_count": 125,
   "id": "9c70c424-2167-45dc-96a5-ca0f06ff7866",
   "metadata": {},
   "outputs": [
    {
     "data": {
      "text/plain": [
       "16454"
      ]
     },
     "execution_count": 125,
     "metadata": {},
     "output_type": "execute_result"
    }
   ],
   "source": [
    "# checking for null values\n",
    "df['HighestEducationParents'].isnull().sum()"
   ]
  },
  {
   "cell_type": "code",
   "execution_count": 126,
   "id": "f7c5e2c1-c2b3-4cb3-ac97-af1674a80798",
   "metadata": {},
   "outputs": [
    {
     "data": {
      "text/plain": [
       "array(['High school', \"A master's degree\", 'A professional degree',\n",
       "       'A doctoral degree', nan, \"A bachelor's degree\",\n",
       "       \"Some college/university study, no bachelor's degree\",\n",
       "       'I prefer not to answer', 'Primary/elementary school',\n",
       "       \"I don't know/not sure\", 'No education'], dtype=object)"
      ]
     },
     "execution_count": 126,
     "metadata": {},
     "output_type": "execute_result"
    }
   ],
   "source": [
    "# display values in HighestEducationParents column\n",
    "df.HighestEducationParents.unique()"
   ]
  },
  {
   "cell_type": "code",
   "execution_count": 127,
   "id": "18f18443-c949-4f09-a808-f335834a7edf",
   "metadata": {},
   "outputs": [
    {
     "data": {
      "text/plain": [
       "array(['High school', \"A master's degree\", 'A professional degree',\n",
       "       'A doctoral degree', \"A bachelor's degree\",\n",
       "       \"Some college/university study, no bachelor's degree\",\n",
       "       'Primary/elementary school', 'No education'], dtype=object)"
      ]
     },
     "execution_count": 127,
     "metadata": {},
     "output_type": "execute_result"
    }
   ],
   "source": [
    "#drop row if it contaaints NaN value\n",
    "df1 = df.dropna(axis = 0, subset=[\"HighestEducationParents\"])\n",
    "df1['HighestEducationParents'].isnull().sum()\n",
    "# delete unwanted values in HighestEducationParents\n",
    "values = [ \"I prefer not to answer\", \"I don't know/not sure\"]\n",
    "df2 = df1[df1.HighestEducationParents.isin(values) == False]\n",
    "df2.HighestEducationParents.unique()"
   ]
  },
  {
   "cell_type": "code",
   "execution_count": 128,
   "id": "989d50a5-2d61-4621-9c00-8a4b416ed329",
   "metadata": {},
   "outputs": [
    {
     "data": {
      "text/plain": [
       "Text(0.5, 0, 'Total Number of Users')"
      ]
     },
     "execution_count": 128,
     "metadata": {},
     "output_type": "execute_result"
    },
    {
     "data": {
      "image/png": "[encoded data removed]",
      "text/plain": [
       "<Figure size 432x288 with 1 Axes>"
      ]
     },
     "metadata": {
      "needs_background": "light"
     },
     "output_type": "display_data"
    }
   ],
   "source": [
    "plot_education = df2['HighestEducationParents'].value_counts()[0:10].sort_values(ascending=False)\n",
    "plot_education.plot(kind = 'barh')\n",
    "\n",
    "plt.title('Level of Education of Stack Overflow Users', size = 15)\n",
    "plt.xlabel('Total Number of Users')"
   ]
  },
  {
   "cell_type": "markdown",
   "id": "8f23c561-775f-4f30-b2be-d973b3f6ede3",
   "metadata": {},
   "source": [
    "### From the chart we can see that most users have a bachelors degree followed by users with a masters degree while people with no education dont use stack overflow that often"
   ]
  },
  {
   "cell_type": "code",
   "execution_count": 129,
   "id": "70e50b56-2ef5-4c21-ba45-8d4025c1be57",
   "metadata": {},
   "outputs": [],
   "source": [
    "# splitting the results to each response\n",
    "lang_col = df['HaveWorkedLanguage'].dropna().apply(lambda x: x.split(\"; \"))"
   ]
  },
  {
   "cell_type": "code",
   "execution_count": 130,
   "id": "416a3db1-f2b4-4442-830b-6dce697e3c80",
   "metadata": {},
   "outputs": [],
   "source": [
    "all_lang_responds = []\n",
    "\n",
    "for row in lang_col:\n",
    "    all_lang_responds.extend(row)"
   ]
  },
  {
   "cell_type": "code",
   "execution_count": 131,
   "id": "bf3959c1-deb1-4a17-831e-df9c0acd3945",
   "metadata": {},
   "outputs": [
    {
     "data": {
      "text/html": [
       "<div>\n",
       "<style scoped>\n",
       "    .dataframe tbody tr th:only-of-type {\n",
       "        vertical-align: middle;\n",
       "    }\n",
       "\n",
       "    .dataframe tbody tr th {\n",
       "        vertical-align: top;\n",
       "    }\n",
       "\n",
       "    .dataframe thead th {\n",
       "        text-align: right;\n",
       "    }\n",
       "</style>\n",
       "<table border=\"1\" class=\"dataframe\">\n",
       "  <thead>\n",
       "    <tr style=\"text-align: right;\">\n",
       "      <th></th>\n",
       "      <th>prog_lang</th>\n",
       "      <th>count</th>\n",
       "      <th>percentage</th>\n",
       "    </tr>\n",
       "  </thead>\n",
       "  <tbody>\n",
       "    <tr>\n",
       "      <th>0</th>\n",
       "      <td>Swift</td>\n",
       "      <td>2368</td>\n",
       "      <td>0.017077</td>\n",
       "    </tr>\n",
       "    <tr>\n",
       "      <th>1</th>\n",
       "      <td>JavaScript</td>\n",
       "      <td>22875</td>\n",
       "      <td>0.164967</td>\n",
       "    </tr>\n",
       "    <tr>\n",
       "      <th>2</th>\n",
       "      <td>Python</td>\n",
       "      <td>11704</td>\n",
       "      <td>0.084405</td>\n",
       "    </tr>\n",
       "    <tr>\n",
       "      <th>3</th>\n",
       "      <td>Ruby</td>\n",
       "      <td>3324</td>\n",
       "      <td>0.023972</td>\n",
       "    </tr>\n",
       "    <tr>\n",
       "      <th>4</th>\n",
       "      <td>SQL</td>\n",
       "      <td>18754</td>\n",
       "      <td>0.135248</td>\n",
       "    </tr>\n",
       "  </tbody>\n",
       "</table>\n",
       "</div>"
      ],
      "text/plain": [
       "    prog_lang  count  percentage\n",
       "0       Swift   2368    0.017077\n",
       "1  JavaScript  22875    0.164967\n",
       "2      Python  11704    0.084405\n",
       "3        Ruby   3324    0.023972\n",
       "4         SQL  18754    0.135248"
      ]
     },
     "execution_count": 131,
     "metadata": {},
     "output_type": "execute_result"
    }
   ],
   "source": [
    "# create dataframe with languages\n",
    "lang_count = pd.DataFrame.from_dict(Counter(all_lang_responds), orient='index').reset_index().rename(columns={'index':'prog_lang', 0:'count'})\n",
    "\n",
    "# calculate the percentage of each language count\n",
    "lang_count[\"percentage\"] = lang_count['count'] / lang_count['count'].sum()\n",
    "\n",
    "lang_count.head()"
   ]
  },
  {
   "cell_type": "code",
   "execution_count": 132,
   "id": "7107b60a-664a-48d1-947d-1fd5ba267c87",
   "metadata": {},
   "outputs": [
    {
     "data": {
      "image/png": "[encoded data removed]",
      "text/plain": [
       "<Figure size 1080x504 with 1 Axes>"
      ]
     },
     "metadata": {
      "needs_background": "light"
     },
     "output_type": "display_data"
    }
   ],
   "source": [
    "# plot top 10 most common used programming languages\n",
    "plt.figure(figsize=(15,7))\n",
    "sns.barplot(data=lang_count.sort_values('percentage', ascending=False)[:10], x='prog_lang', y='percentage', color=sns.color_palette()[0])\n",
    "plt.title(\"Top 10 Most Common Programming Languages In 2017\")\n",
    "plt.xlabel(\"Programming language\")\n",
    "plt.ylabel(\"Percentage\");\n"
   ]
  }
 ],
 "metadata": {
  "kernelspec": {
   "display_name": "Python 3 (ipykernel)",
   "language": "python",
   "name": "python3"
  },
  "language_info": {
   "codemirror_mode": {
    "name": "ipython",
    "version": 3
   },
   "file_extension": ".py",
   "mimetype": "text/x-python",
   "name": "python",
   "nbconvert_exporter": "python",
   "pygments_lexer": "ipython3",
   "version": "3.9.7"
  }
 },
 "nbformat": 4,
 "nbformat_minor": 5
}
